{
  "cells": [
    {
      "cell_type": "markdown",
      "id": "e19da1ea-fc1c-4d29-b5a6-01ce58a9dfd4",
      "metadata": {
        "id": "e19da1ea-fc1c-4d29-b5a6-01ce58a9dfd4"
      },
      "source": [
        "# Name: Rohan Shrestha\n",
        "# University ID: 2418112"
      ]
    },
    {
      "cell_type": "code",
      "execution_count": 2,
      "id": "a6c04f0a-6241-473a-9b4c-f296104d9095",
      "metadata": {
        "colab": {
          "base_uri": "https://localhost:8080/"
        },
        "id": "a6c04f0a-6241-473a-9b4c-f296104d9095",
        "outputId": "caf61d93-f1d4-496f-c0e9-c0cce2ab58e4"
      },
      "outputs": [
        {
          "output_type": "stream",
          "name": "stdout",
          "text": [
            "Cold temperatures (<10°C): [8.2, 7.9, 9.0, 8.5, 7.7, 8.4, 9.5, 8.1, 7.6, 8.0, 7.8, 8.7, 9.2, 8.3, 8.9, 7.8]\n",
            "Mild temperatures (10°C - 15°C): [14.1, 13.5, 13.0, 12.9, 13.3, 14.0, 13.4, 14.2, 12.8, 13.7, 13.6, 13.8, 13.9, 12.7, 13.1, 12.5]\n",
            "Comfortable temperatures (15°C - 20°C): [17.4, 18.0, 17.8, 16.5, 17.2, 16.7, 18.3, 17.9, 17.0, 16.8, 17.5, 17.1, 18.1, 16.4, 18.2, 16.6]\n"
          ]
        }
      ],
      "source": [
        "# List of temperature measured at Tribhuwan International Airport\n",
        "temperatures = [\n",
        "    8.2, 17.4, 14.1, 7.9, 18.0, 13.5, 9.0, 17.8, 13.0, 8.5,\n",
        "    16.5, 12.9, 7.7, 17.2, 13.3, 8.4, 16.7, 14.0, 9.5, 18.3, 13.4, 8.1,\n",
        "    17.9, 14.2, 7.6, 17.0, 12.8, 8.0, 16.8, 13.7, 7.8, 17.5, 13.6, 8.7,\n",
        "    17.1, 13.8, 9.2, 18.1, 13.9, 8.3, 16.4, 12.7, 8.9, 18.2, 13.1, 7.8,\n",
        "    16.6, 12.5\n",
        "]\n",
        "\n",
        "# Create empty lists for classifications\n",
        "cold = []\n",
        "mild = []\n",
        "comfortable = []\n",
        "\n",
        "# Iterate over the temperatures list and add each temperature to the appropriate category\n",
        "for temp in temperatures:\n",
        "    if temp < 10:\n",
        "        cold.append(temp)\n",
        "    elif 10 <= temp <= 15:\n",
        "        mild.append(temp)\n",
        "    elif 15 < temp <= 20:\n",
        "        comfortable.append(temp)\n",
        "\n",
        "# Print the lists to verify the classifications\n",
        "print(\"Cold temperatures (<10°C):\", cold)\n",
        "print(\"Mild temperatures (10°C - 15°C):\", mild)\n",
        "print(\"Comfortable temperatures (15°C - 20°C):\", comfortable)\n"
      ]
    },
    {
      "cell_type": "code",
      "execution_count": 3,
      "id": "247bcb9e-2a74-485d-9abd-97494e4c7bb0",
      "metadata": {
        "colab": {
          "base_uri": "https://localhost:8080/"
        },
        "id": "247bcb9e-2a74-485d-9abd-97494e4c7bb0",
        "outputId": "eb5de531-b5fc-40fc-93ab-e7ab97656b47"
      },
      "outputs": [
        {
          "output_type": "stream",
          "name": "stdout",
          "text": [
            "Number of cold days (<10°C): 16\n",
            "Number of mild days (10°C - 15°C): 16\n",
            "Number of comfortable days (15°C - 20°C): 16\n"
          ]
        }
      ],
      "source": [
        "# Count the number of times each temperature classification occurred\n",
        "cold_count = len(cold)\n",
        "mild_count = len(mild)\n",
        "comfortable_count = len(comfortable)\n",
        "\n",
        "# Print the results\n",
        "print(\"Number of cold days (<10°C):\", cold_count)\n",
        "print(\"Number of mild days (10°C - 15°C):\", mild_count)\n",
        "print(\"Number of comfortable days (15°C - 20°C):\", comfortable_count)\n"
      ]
    },
    {
      "cell_type": "code",
      "execution_count": 4,
      "id": "9bd65a56-e951-4db1-962d-2e899d4245ec",
      "metadata": {
        "colab": {
          "base_uri": "https://localhost:8080/"
        },
        "id": "9bd65a56-e951-4db1-962d-2e899d4245ec",
        "outputId": "908ad6c2-2f0f-4b93-d00b-6a10325f1869"
      },
      "outputs": [
        {
          "output_type": "stream",
          "name": "stdout",
          "text": [
            "Temperatures in Fahrenheit: [46.76, 63.32, 57.379999999999995, 46.22, 64.4, 56.3, 48.2, 64.04, 55.4, 47.3, 61.7, 55.22, 45.86, 62.959999999999994, 55.94, 47.120000000000005, 62.059999999999995, 57.2, 49.1, 64.94, 56.120000000000005, 46.58, 64.22, 57.56, 45.68, 62.6, 55.04, 46.4, 62.24, 56.66, 46.04, 63.5, 56.48, 47.66, 62.78, 56.84, 48.56, 64.58, 57.02, 46.94, 61.519999999999996, 54.86, 48.02, 64.75999999999999, 55.58, 46.04, 61.88, 54.5]\n"
          ]
        }
      ],
      "source": [
        "# Convert each temperature from Celsius to Fahrenheit\n",
        "temperatures_fahrenheit = [(temp * 9 / 5) + 32 for temp in temperatures]\n",
        "\n",
        "# Print the converted temperatures\n",
        "print(\"Temperatures in Fahrenheit:\", temperatures_fahrenheit)\n"
      ]
    },
    {
      "cell_type": "code",
      "execution_count": 5,
      "id": "c5e92c5d-3e1a-42f5-9c40-d1ab01fe5670",
      "metadata": {
        "colab": {
          "base_uri": "https://localhost:8080/"
        },
        "id": "c5e92c5d-3e1a-42f5-9c40-d1ab01fe5670",
        "outputId": "269bf601-9c89-4b5b-bacf-7507c52d64d3"
      },
      "outputs": [
        {
          "output_type": "stream",
          "name": "stdout",
          "text": [
            "Night temperatures: [8.2, 7.9, 9.0, 8.5, 7.7, 8.4, 9.5, 8.1, 7.6, 8.0, 7.8, 8.7, 9.2, 8.3, 8.9, 7.8]\n",
            "Evening temperatures: [17.4, 18.0, 17.8, 16.5, 17.2, 16.7, 18.3, 17.9, 17.0, 16.8, 17.5, 17.1, 18.1, 16.4, 18.2, 16.6]\n",
            "Day temperatures: [14.1, 13.5, 13.0, 12.9, 13.3, 14.0, 13.4, 14.2, 12.8, 13.7, 13.6, 13.8, 13.9, 12.7, 13.1, 12.5]\n",
            "Average Day-time Temperature: 13.40625\n"
          ]
        }
      ],
      "source": [
        "# Create empty lists for night, day, and evening temperatures\n",
        "night_temps = []\n",
        "evening_temps = []\n",
        "day_temps = []\n",
        "\n",
        "# Iterate over the temperatures list, assigning values to each time-of-day list based on\n",
        "#their position\n",
        "for i in range(0, len(temperatures), 3):\n",
        "    night_temps.append(temperatures[i])\n",
        "    evening_temps.append(temperatures[i + 1])\n",
        "    day_temps.append(temperatures[i + 2])\n",
        "\n",
        "# Calculate the average daytime temperature\n",
        "average_day_temp = sum(day_temps) / len(day_temps)\n",
        "\n",
        "# Print the average day-time temperature\n",
        "print(\"Night temperatures:\", night_temps)\n",
        "print(\"Evening temperatures:\", evening_temps)\n",
        "print(\"Day temperatures:\", day_temps)\n",
        "print(\"Average Day-time Temperature:\", average_day_temp)\n"
      ]
    },
    {
      "cell_type": "code",
      "execution_count": 6,
      "id": "3a5f9a06-99c1-4cf5-be6f-39138095022c",
      "metadata": {
        "colab": {
          "base_uri": "https://localhost:8080/",
          "height": 472
        },
        "id": "3a5f9a06-99c1-4cf5-be6f-39138095022c",
        "outputId": "2dce415c-c464-432f-fe44-0018968b2c1a"
      },
      "outputs": [
        {
          "output_type": "display_data",
          "data": {
            "text/plain": [
              "<Figure size 640x480 with 1 Axes>"
            ],
            "image/png": "[encoded data removed]"
          },
          "metadata": {}
        }
      ],
      "source": [
        "import matplotlib.pyplot as plt\n",
        "\n",
        "# Plot Day vs Temperature\n",
        "plt.xlabel('Days')\n",
        "plt.ylabel('Temperature (°C)')\n",
        "plt.title('Daytime Temperatures at Tribhuwan International Airport')\n",
        "plt.plot(day_temps, label=\"Daytime Temperatures (16-24)\")\n",
        "plt.legend(loc=\"lower right\")\n",
        "plt.show()\n"
      ]
    },
    {
      "cell_type": "markdown",
      "id": "379f82c0-0fe0-4b15-afbc-29e8cc3306d0",
      "metadata": {
        "id": "379f82c0-0fe0-4b15-afbc-29e8cc3306d0"
      },
      "source": [
        " # Exercise - Recursion"
      ]
    },
    {
      "cell_type": "markdown",
      "id": "e4c6b0f9-407e-4d33-8c9a-f2c8ffc7e310",
      "metadata": {
        "id": "e4c6b0f9-407e-4d33-8c9a-f2c8ffc7e310"
      },
      "source": [
        "Task 1: Sum of Nested Lists"
      ]
    },
    {
      "cell_type": "code",
      "execution_count": 7,
      "id": "62e7ee60-f716-4df3-b3dd-92b233a50933",
      "metadata": {
        "colab": {
          "base_uri": "https://localhost:8080/"
        },
        "id": "62e7ee60-f716-4df3-b3dd-92b233a50933",
        "outputId": "266a96bc-be26-49a7-bb2a-eed31be8483e"
      },
      "outputs": [
        {
          "output_type": "stream",
          "name": "stdout",
          "text": [
            "Nested List Sum:  36\n"
          ]
        }
      ],
      "source": [
        "def sum_nested_list(nested_list):\n",
        "    total = 0\n",
        "    for element in nested_list:\n",
        "        if isinstance(element, list):\n",
        "            total += sum_nested_list(element)\n",
        "        else:\n",
        "            total += element\n",
        "    return total\n",
        "\n",
        "# Test the function\n",
        "nested_list = [1, [2, [3, 4], 5], 6, [7, 8]]\n",
        "print(\"Nested List Sum: \",sum_nested_list(nested_list))"
      ]
    },
    {
      "cell_type": "markdown",
      "id": "eedb7544-53b0-4db8-9eed-b20db4a6896a",
      "metadata": {
        "id": "eedb7544-53b0-4db8-9eed-b20db4a6896a"
      },
      "source": [
        "Task 2: Generate All Permutations of a String"
      ]
    },
    {
      "cell_type": "code",
      "execution_count": 8,
      "id": "9635791d-9db3-4b2a-8f8d-3778563b04a9",
      "metadata": {
        "colab": {
          "base_uri": "https://localhost:8080/"
        },
        "id": "9635791d-9db3-4b2a-8f8d-3778563b04a9",
        "outputId": "c53aa312-f405-491d-8f0e-d109aafd8974"
      },
      "outputs": [
        {
          "output_type": "stream",
          "name": "stdout",
          "text": [
            "Permutation:  ['abc', 'acb', 'bac', 'bca', 'cab', 'cba']\n"
          ]
        }
      ],
      "source": [
        "def generate_permutations(s):\n",
        "    if len(s) == 0:\n",
        "        return ['']\n",
        "    perms = []\n",
        "    for i in range(len(s)):\n",
        "        char = s[i]\n",
        "        remaining = s[:i] + s[i+1:]\n",
        "        for p in generate_permutations(remaining):\n",
        "            perms.append(char + p)\n",
        "    return perms\n",
        "\n",
        "# Test the function\n",
        "print(\"Permutation: \",generate_permutations(\"abc\"))\n"
      ]
    },
    {
      "cell_type": "markdown",
      "id": "1fc09ae1-af7a-4044-9275-202d7f0e6b75",
      "metadata": {
        "id": "1fc09ae1-af7a-4044-9275-202d7f0e6b75"
      },
      "source": [
        "Task 3: Directory Size Calculation"
      ]
    },
    {
      "cell_type": "code",
      "execution_count": 9,
      "id": "a009b51e-b803-46a1-896f-eee9cba4635c",
      "metadata": {
        "colab": {
          "base_uri": "https://localhost:8080/"
        },
        "id": "a009b51e-b803-46a1-896f-eee9cba4635c",
        "outputId": "d985abb8-c5b6-419f-8e66-00ec1e945948"
      },
      "outputs": [
        {
          "output_type": "stream",
          "name": "stdout",
          "text": [
            "Directory Size:  1400\n"
          ]
        }
      ],
      "source": [
        "def calculate_directory_size(directory):\n",
        "    total_size = 0\n",
        "    for item in directory:\n",
        "        if isinstance(directory[item], dict):\n",
        "            total_size += calculate_directory_size(directory[item])\n",
        "        else:\n",
        "            total_size += directory[item]\n",
        "    return total_size\n",
        "\n",
        "directory_structure = {\n",
        "    \"file1.txt\": 200,\n",
        "    \"file2.txt\": 300,\n",
        "    \"subdir1\": {\n",
        "        \"file3.txt\": 400,\n",
        "        \"file4.txt\": 100\n",
        "    },\n",
        "    \"subdir2\": {\n",
        "        \"subsubdir1\": {\n",
        "            \"file5.txt\": 250\n",
        "        },\n",
        "        \"file6.txt\": 150\n",
        "    }\n",
        "}\n",
        "\n",
        "# Test the function\n",
        "print(\"Directory Size: \",calculate_directory_size(directory_structure))\n"
      ]
    },
    {
      "cell_type": "markdown",
      "id": "f0d90e17-6cd2-4d79-bfbd-1f538cb66139",
      "metadata": {
        "id": "f0d90e17-6cd2-4d79-bfbd-1f538cb66139"
      },
      "source": [
        "# Exercises - Dynamic Programming\n"
      ]
    },
    {
      "cell_type": "markdown",
      "id": "18afa47f-f057-4420-bcc1-53027a96e35f",
      "metadata": {
        "id": "18afa47f-f057-4420-bcc1-53027a96e35f"
      },
      "source": [
        "Task 1: Coin Change Problem"
      ]
    },
    {
      "cell_type": "code",
      "execution_count": 10,
      "id": "c2b9fd37-ea1e-4e01-862a-d9684fdcbb3c",
      "metadata": {
        "colab": {
          "base_uri": "https://localhost:8080/"
        },
        "id": "c2b9fd37-ea1e-4e01-862a-d9684fdcbb3c",
        "outputId": "c727e0f7-fcba-4148-f2b7-b52798a55028"
      },
      "outputs": [
        {
          "output_type": "stream",
          "name": "stdout",
          "text": [
            "3\n"
          ]
        }
      ],
      "source": [
        "def min_coins(coins, amount):\n",
        "    dp = [float('inf')] * (amount + 1)\n",
        "    dp[0] = 0\n",
        "    for coin in coins:\n",
        "        for i in range(coin, amount + 1):\n",
        "            dp[i] = min(dp[i], dp[i - coin] + 1)\n",
        "    return dp[amount] if dp[amount] != float('inf') else -1\n",
        "\n",
        "# Test the function\n",
        "print(min_coins([1, 2, 5], 11))"
      ]
    },
    {
      "cell_type": "markdown",
      "id": "026d25fa-b7b3-4d83-b880-77cd575196b7",
      "metadata": {
        "id": "026d25fa-b7b3-4d83-b880-77cd575196b7"
      },
      "source": [
        "Task 2: Longest Common Subsequence (LCS)"
      ]
    },
    {
      "cell_type": "code",
      "execution_count": 11,
      "id": "b353d529-6c1c-4bb9-ade9-0758ef0eb88b",
      "metadata": {
        "colab": {
          "base_uri": "https://localhost:8080/"
        },
        "id": "b353d529-6c1c-4bb9-ade9-0758ef0eb88b",
        "outputId": "69fe4733-4dd5-4587-aacd-872487afc8ba"
      },
      "outputs": [
        {
          "output_type": "stream",
          "name": "stdout",
          "text": [
            "3\n"
          ]
        }
      ],
      "source": [
        "def longest_common_subsequence(s1, s2):\n",
        "    m, n = len(s1), len(s2)\n",
        "    dp = [[0] * (n + 1) for _ in range(m + 1)]\n",
        "    for i in range(1, m + 1):\n",
        "        for j in range(1, n + 1):\n",
        "            if s1[i - 1] == s2[j - 1]:\n",
        "                dp[i][j] = dp[i - 1][j - 1] + 1\n",
        "            else:\n",
        "                dp[i][j] = max(dp[i - 1][j], dp[i][j - 1])\n",
        "    return dp[m][n]\n",
        "\n",
        "# Test the function\n",
        "print(longest_common_subsequence(\"abcde\", \"ace\"))  # Output: 3\n"
      ]
    },
    {
      "cell_type": "markdown",
      "id": "6193a27a-de19-44bf-aa8f-a3699966e679",
      "metadata": {
        "id": "6193a27a-de19-44bf-aa8f-a3699966e679"
      },
      "source": [
        "Task 3: 0/1 Knapsack Problem"
      ]
    },
    {
      "cell_type": "code",
      "execution_count": 12,
      "id": "505b975c-97be-4e0f-82a5-4c387d317747",
      "metadata": {
        "colab": {
          "base_uri": "https://localhost:8080/"
        },
        "id": "505b975c-97be-4e0f-82a5-4c387d317747",
        "outputId": "3d3f8849-da63-4216-9f46-de5ac4f6ac01"
      },
      "outputs": [
        {
          "output_type": "stream",
          "name": "stdout",
          "text": [
            "9\n"
          ]
        }
      ],
      "source": [
        "def knapsack(weights, values, capacity):\n",
        "    n = len(weights)\n",
        "    dp = [[0] * (capacity + 1) for _ in range(n + 1)]\n",
        "    for i in range(1, n + 1):\n",
        "        for w in range(capacity + 1):\n",
        "            if weights[i - 1] <= w:\n",
        "                dp[i][w] = max(dp[i - 1][w], dp[i - 1][w - weights[i - 1]] + values[i - 1])\n",
        "            else:\n",
        "                dp[i][w] = dp[i - 1][w]\n",
        "    return dp[n][capacity]\n",
        "\n",
        "# Test the function\n",
        "print(knapsack([1, 3, 4, 5], [1, 4, 5, 7], 7))  # Output: 9\n"
      ]
    },
    {
      "cell_type": "code",
      "execution_count": null,
      "id": "cbbc95af-5776-4ef7-b1ca-5042d955db0a",
      "metadata": {
        "id": "cbbc95af-5776-4ef7-b1ca-5042d955db0a"
      },
      "outputs": [],
      "source": []
    }
  ],
  "metadata": {
    "kernelspec": {
      "display_name": "Python 3 (ipykernel)",
      "language": "python",
      "name": "python3"
    },
    "language_info": {
      "codemirror_mode": {
        "name": "ipython",
        "version": 3
      },
      "file_extension": ".py",
      "mimetype": "text/x-python",
      "name": "python",
      "nbconvert_exporter": "python",
      "pygments_lexer": "ipython3",
      "version": "3.12.0"
    },
    "colab": {
      "provenance": []
    }
  },
  "nbformat": 4,
  "nbformat_minor": 5
}